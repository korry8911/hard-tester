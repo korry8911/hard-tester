{
 "cells": [
  {
   "cell_type": "code",
   "execution_count": null,
   "metadata": {
    "collapsed": false
   },
   "outputs": [],
   "source": [
    "import docker\n",
    "import ipyparallel as ipp\n",
    "import random\n",
    "import time\n",
    "import string\n",
    "import hardtester\n",
    "import riak"
   ]
  },
  {
   "cell_type": "code",
   "execution_count": null,
   "metadata": {
    "collapsed": true
   },
   "outputs": [],
   "source": [
    "##### Setup Test #####"
   ]
  },
  {
   "cell_type": "code",
   "execution_count": null,
   "metadata": {
    "collapsed": false
   },
   "outputs": [],
   "source": [
    "# Create Docker client\n",
    "# Be sure to update the client_cert paths and base_url value\n",
    "cert_path = 'path/to/cert'\n",
    "key_path = 'path/to/key'\n",
    "base_url = 'https://XXX.XXX.XXX.XXX:YYYY'\n",
    "\n",
    "tls = docker.tls.TLSConfig(client_cert=(cert_path, key_path), verify=False)\n",
    "docker_client = docker.Client(base_url=base_url, tls=tls)"
   ]
  },
  {
   "cell_type": "code",
   "execution_count": null,
   "metadata": {
    "collapsed": true
   },
   "outputs": [],
   "source": [
    "# Set repo path\n",
    "# Be sure to update the path\n",
    "repo_path = 'path/to/hard-tester'"
   ]
  },
  {
   "cell_type": "code",
   "execution_count": null,
   "metadata": {
    "collapsed": false
   },
   "outputs": [],
   "source": [
    "# Start Docker containers\n",
    "hardtester.start_blockade(5, repo_path)\n",
    "time.sleep(3)"
   ]
  },
  {
   "cell_type": "code",
   "execution_count": null,
   "metadata": {
    "collapsed": false
   },
   "outputs": [],
   "source": [
    "# Start execution cluster controller\n",
    "hardtester.start_cluster_controller()\n",
    "time.sleep(5)"
   ]
  },
  {
   "cell_type": "code",
   "execution_count": null,
   "metadata": {
    "collapsed": false
   },
   "outputs": [],
   "source": [
    "# Start execution cluster engines in each Docker container\n",
    "jup_sec_path =  '~/.ipython/profile_default/security/'\n",
    "hardtester.start_cluster_engines(docker_client, jup_sec_path)\n",
    "time.sleep(15)"
   ]
  },
  {
   "cell_type": "code",
   "execution_count": null,
   "metadata": {
    "collapsed": false
   },
   "outputs": [],
   "source": [
    "# Cluster Riak and return the cluster nodes, or just get the Riak nodes\n",
    "nodes = hardtester.riak_cluster(docker_client)"
   ]
  },
  {
   "cell_type": "code",
   "execution_count": null,
   "metadata": {
    "collapsed": true
   },
   "outputs": [],
   "source": [
    "def load_deps():\n",
    "    import sys\n",
    "    sys.path.append('/hardtester')\n",
    "    import hardtester"
   ]
  },
  {
   "cell_type": "code",
   "execution_count": null,
   "metadata": {
    "collapsed": false
   },
   "outputs": [],
   "source": [
    "# Start parallel executors and import Riak in each executor engine\n",
    "para_exec = hardtester.start_parallel_executor()\n",
    "load_deps_res = para_exec.map(lambda node: load_deps(), nodes)\n",
    "load_deps_res.result()"
   ]
  },
  {
   "cell_type": "code",
   "execution_count": null,
   "metadata": {
    "collapsed": true
   },
   "outputs": [],
   "source": [
    "results = list()"
   ]
  },
  {
   "cell_type": "code",
   "execution_count": null,
   "metadata": {
    "collapsed": false,
    "scrolled": true
   },
   "outputs": [],
   "source": [
    "# Set up test\n",
    "bucket_type = ''.join(random.choice(string.ascii_uppercase) for _ in range(10))\n",
    "bucket_name = ''.join(random.choice(string.ascii_uppercase + string.digits) for _ in range(10))\n",
    "key_name = ''.join(random.choice(string.ascii_uppercase + string.digits) for _ in range(5))\n",
    "value_name = ''.join(random.choice(string.ascii_uppercase + string.digits) for _ in range(5))\n",
    "num_cmds_per_node = 100\n",
    "timeout_ms = 2000\n",
    "\n",
    "#bucket props\n",
    "#all, one, quorum, default\n",
    "props = dict()\n",
    "props['name'] = bucket_type\n",
    "props['allow_mult'] = 'true'\n",
    "props['n_val'] = 3\n",
    "props['last_write_wins'] = 'false'\n",
    "props['r'] = 3\n",
    "props['pr'] = 0\n",
    "props['w'] = 3\n",
    "props['dw'] = 3\n",
    "props['pw'] = 0\n",
    "props['rw'] = 3\n",
    "props['notfound_ok'] = 'true'\n",
    "props['basic_quorum'] = 'false'\n",
    "props['consistent'] = 'false'\n",
    "\n",
    "hardtester.create_bucket_type(docker_client, props)\n",
    "time.sleep(2)\n",
    "# Start tests\n",
    "raw_hist = hardtester.start_consitency_test(para_exec, \\\n",
    "                                            nodes, \\\n",
    "                                            num_cmds_per_node, \\\n",
    "                                            bucket_type, \\\n",
    "                                            bucket_name, \\\n",
    "                                            key_name, \\\n",
    "                                            value_name, \\\n",
    "                                            timeout_ms, \\\n",
    "                                            repo_path)\n",
    "\n",
    "# Parse raw history to create a causal history, order by invocation timestamp\n",
    "causal_hist = hardtester.make_causal_history(raw_hist)\n",
    "\n",
    "# Create faux Jepsen log from causal history\n",
    "hardtester.make_jepsen_log(causal_hist, repo_path)\n",
    "\n",
    "# Run linearizability checker on the faux Jepsen log\n",
    "res = hardtester.run_linearizability_checker(repo_path)\n",
    "results.append(res)"
   ]
  },
  {
   "cell_type": "code",
   "execution_count": null,
   "metadata": {
    "collapsed": false
   },
   "outputs": [],
   "source": [
    "results"
   ]
  },
  {
   "cell_type": "code",
   "execution_count": null,
   "metadata": {
    "collapsed": false
   },
   "outputs": [],
   "source": [
    "# Ensure there are no running execution clusters from previous runs\n",
    "para_exec.shutdown(hub=True)\n",
    "# Destroy Docker containers from previous runs, this will kill all running containers\n",
    "hardtester.stop_blockade(repo_path)"
   ]
  },
  {
   "cell_type": "code",
   "execution_count": null,
   "metadata": {
    "collapsed": true
   },
   "outputs": [],
   "source": []
  }
 ],
 "metadata": {
  "kernelspec": {
   "display_name": "Python 2",
   "language": "python",
   "name": "python2"
  },
  "language_info": {
   "codemirror_mode": {
    "name": "ipython",
    "version": 2
   },
   "file_extension": ".py",
   "mimetype": "text/x-python",
   "name": "python",
   "nbconvert_exporter": "python",
   "pygments_lexer": "ipython2",
   "version": "2.7.12"
  }
 },
 "nbformat": 4,
 "nbformat_minor": 0
}
